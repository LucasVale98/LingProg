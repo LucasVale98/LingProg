{
 "cells": [
  {
   "cell_type": "markdown",
   "metadata": {},
   "source": [
    "Exercicio03"
   ]
  },
  {
   "cell_type": "markdown",
   "metadata": {},
   "source": [
    "Desvio Condicional"
   ]
  },
  {
   "cell_type": "markdown",
   "metadata": {},
   "source": [
    "1. Faça um Programa que peça dois números e imprima o maior deles"
   ]
  },
  {
   "cell_type": "code",
   "execution_count": null,
   "metadata": {},
   "outputs": [],
   "source": [
    "x = input(\"Digite um numero X: \")\n",
    "y = input(\"Digite um numero Y: \")\n",
    "\n",
    "if x > y:\n",
    "    print(f'O {x} é maior que {y}.')\n",
    "else:\n",
    "    print(f'O {y} é maior que {x}.')"
   ]
  },
  {
   "cell_type": "markdown",
   "metadata": {},
   "source": [
    "2. Faça um Programa que verifique se uma letra digitada é vogal ou consoante"
   ]
  },
  {
   "cell_type": "code",
   "execution_count": null,
   "metadata": {},
   "outputs": [],
   "source": [
    "lista = [\"d\", \"f\", \"g\", \"h\",\"k\",\"n\",\"t\"]\n",
    "\n",
    "if lista  == \"a\" or lista == \"e\" or lista == \"i\" or lista == \"o\" or lista == \"u\" or lista == \"A\" or lista == \"E\" or lista == \"I\" or lista == \"O\" or lista == \"U\":\n",
    "    print(\"Lista de vogal:\")\n",
    "else:\n",
    "    print(\"Lista de constante:\")\n"
   ]
  },
  {
   "cell_type": "markdown",
   "metadata": {},
   "source": [
    "3. Faça um programa para a leitura de duas notas parciais de um aluno. O programa deve calcular a média alcançada por aluno e apresentar:\n",
    "- A mensagem \"Aprovado\", se a média alcançada for maior ou igual a sete;\n",
    "- A mensagem \"Reprovado\", se a média for menor do que sete;\n",
    "- A mensagem \"Aprovado com Distinção\", se a média for igual a dez."
   ]
  },
  {
   "cell_type": "code",
   "execution_count": null,
   "metadata": {},
   "outputs": [],
   "source": [
    "nota1 = int(input(\"Digite a 1ª nota: \")) \n",
    "nota2 = int(input(\"Digite a 1ª nota: \"))\n",
    "\n",
    "media = nota1+nota2 / 2\n",
    "\n",
    "if media > 7:\n",
    "    print(\"Aprovado\")\n",
    "if media < 7:\n",
    "    print(\"Reprovado\")\n",
    "if media == 10:\n",
    "    print(\"Aprovado com distinção\")"
   ]
  },
  {
   "cell_type": "code",
   "execution_count": null,
   "metadata": {},
   "outputs": [],
   "source": [
    "4. Faça um Programa que leia três números e mostre-os em ordem decrescente."
   ]
  },
  {
   "cell_type": "code",
   "execution_count": null,
   "metadata": {},
   "outputs": [],
   "source": [
    "x = int(input('Primeiro numero: '))\n",
    "y  = int(input('Segundo numero : '))\n",
    "z = int(input('Terceiro numero: '))\n",
    "\n",
    "print(f'{x} - {y} - {z}')\n",
    "\n",
    "if(z > y):\n",
    "    aux = z\n",
    "    terceiro = y\n",
    "    y = aux\n",
    "\n",
    "if(y > x):\n",
    "    aux = y\n",
    "    segundo = primeiro\n",
    "    primeiro = aux\n",
    "\n",
    "if(z > y):\n",
    "    aux = z\n",
    "    z = y\n",
    "    y = aux\n",
    "\n",
    "print(f'{z} - {y} - {x}')\n"
   ]
  },
  {
   "cell_type": "markdown",
   "metadata": {},
   "source": [
    "5 - As Organizações Tabajara resolveram dar um aumento de salário aos seus colaboradores e lhe contrataram para desenvolver o programa que calculará os reajustes. \n",
    "Faça um programa que recebe o salário de um colaborador e o reajuste segundo o seguinte critério, baseado no salário atual:\n",
    "\n",
    "- salários até R$ 280,00 (incluindo) : aumento de 20%\n",
    "- salários entre R$ 280,00 e R$ 700,00 : aumento de 15%\n",
    "- salários entre R$ 700,00 e R$ 1500,00 : aumento de 10%\n",
    "- salários de R$ 1500,00 em diante : aumento de 5% Após o aumento ser realizado,\n",
    "informe na tela:\n",
    "- o salário antes do reajuste;\n",
    "- o percentual de aumento aplicado;\n",
    "- o valor do aumento;\n",
    "- o novo salário, após o aumento."
   ]
  },
  {
   "cell_type": "code",
   "execution_count": null,
   "metadata": {},
   "outputs": [],
   "source": [
    "salario = float(input(\"Digite o salário do colaborador: \"))\n",
    "\n",
    "if salario <= 280.00:\n",
    "    aumento = salario * 0.2\n",
    "    valor_Aumento = salario - aumento\n",
    "    \n",
    "    print(f\"Salário antes do reajuste:R$ {salario}\")\n",
    "    print(\"O percentual de aumento apelicado foi de 20%\")\n",
    "    print(f\"O valor do aumento foi de: R$ {valor_Aumento}\")\n",
    "    print(f\"Novo salario: {aumento}\")   \n",
    "elif salario >= 280.00 or salario <= 700.0:\n",
    "    aumento = salario * 0.15\n",
    "    valor_Aumento = salario - aumento\n",
    "    \n",
    "    print(f\"Salário antes do reajuste:R$ {salario}\")\n",
    "    print(\"O percentual de aumento apelicado foi de 15%\")\n",
    "    print(f\"O valor do aumento foi de: R$ {valor_Aumento}\")\n",
    "    print(f\"Novo salario: {aumento}\")\n",
    "elif salario > 700.00 or salario < 1500.0:\n",
    "    aumento = salario * 0.10\n",
    "    valor_Aumento = salario - aumento\n",
    "    \n",
    "    print(f\"Salário antes do reajuste:R$ {salario}\")\n",
    "    print(\"O percentual de aumento apelicado foi de 10%\")\n",
    "    print(f\"O valor do aumento foi de: R$ {valor_Aumento}\")\n",
    "    print(f\"Novo salario: {aumento}\")\n",
    "elif salario > 1500.00:\n",
    "    aumento = salario * 0.05\n",
    "    valor_Aumento = salario - aumento\n",
    "    \n",
    "    print(f\"Salário antes do reajuste:R$ {salario}\")\n",
    "    print(\"O percentual de aumento apelicado foi de 5%\")\n",
    "    print(f\"O valor do aumento foi de: R$ {valor_Aumento}\")\n",
    "    print(f\"Novo salario: {aumento}\")"
   ]
  },
  {
   "cell_type": "markdown",
   "metadata": {},
   "source": [
    "6. Faça um Programa que leia um número e exiba o dia correspondente da semana. (1-Domingo, 2- Segunda, etc.), se digitar outro valor deve aparecer valor inválido."
   ]
  },
  {
   "cell_type": "code",
   "execution_count": null,
   "metadata": {},
   "outputs": [],
   "source": [
    "dia = int(input(\"Digite o dia da Semana\"))\n",
    "\n",
    "if dia == 1:\n",
    "    dia_Semana = \"Sgunda-Feira\"\n",
    "if dia == 2:\n",
    "    dia_Semana = \"Terça-Feira\"\n",
    "if dia == 3:\n",
    "    dia_Semana = \"Quarta-Feira\"\n",
    "if dia == 4:\n",
    "    dia_Semana = \"Quinta-Feira\"\n",
    "if dia == 5:\n",
    "    dia_Semana = \"Sxta-Feira\"\n",
    "if dia == 6:\n",
    "    dia_Semana = \"Sábado\"\n",
    "if dia == 7:\n",
    "    dia_Semana = \"Domingo\"\n",
    "if dia <= 0 or dia >= 7 :\n",
    "    dia_Semana = \"Numero Invalido\"\n",
    "    \n",
    "print(dia_Semana)\n"
   ]
  },
  {
   "cell_type": "markdown",
   "metadata": {},
   "source": [
    "7 - Faça um programa que lê as duas notas parciais obtidas por um aluno numa\n",
    "disciplina ao longo de um semestre, e calcule a sua média. A atribuição de conceitos\n",
    "obedece à tabela abaixo:\n",
    "\n",
    "        Média de Aproveitamento Conceito\n",
    "        Entre 9.0 e 10.0 A\n",
    "        Entre 7.5 e 9.0 B\n",
    "        Entre 6.0 e 7.5 C\n",
    "        Entre 4.0 e 6.0 D\n",
    "        Entre 4.0 e zero E\n",
    "        \n",
    "O algoritmo deve mostrar na tela as notas, a média, o conceito correspondente e a\n",
    "mensagem “APROVADO” se o conceito for A, B ou C ou “REPROVADO” se o conceito\n",
    "for D ou E."
   ]
  },
  {
   "cell_type": "code",
   "execution_count": null,
   "metadata": {},
   "outputs": [],
   "source": [
    "nota_1 = float(input(\"Digite a nota 01: \"))\n",
    "nota_2 = float(input(\"Digite a nota 02: \"))\n",
    "\n",
    "media = (nota_1+nota_2)/2\n",
    "aproveitamento = \" \"\n",
    "\n",
    "if media >= 9.0 and media <= 10.0:\n",
    "    aproveitamento = \"A | APROVADO\"\n",
    "elif media >= 7.5 and media <= 9.0:\n",
    "    aproveitamento = \"B | APROVADO\"\n",
    "elif media >= 6.0 and media <= 7.5:\n",
    "    aproveitamento = \"C | APROVADO\"\n",
    "elif media >= 4.0 and media <= 6.0:\n",
    "    aproveitamento = \"D | REPROVADO\"\n",
    "else:\n",
    "    aproveitamento = \"E | REPROVADO\"\n",
    "    \n",
    "print(f'Média do aluno é: {media}, e o aprofevitamento é de: {aproveitamento}')\n"
   ]
  },
  {
   "cell_type": "code",
   "execution_count": null,
   "metadata": {},
   "outputs": [],
   "source": [
    "8. Faça um Programa que peça os 3 lados de um triângulo. O programa deverá informar se os valores \n",
    "podem ser um triângulo. Indique, caso os lados formem um triângulo, se o mesmo é: equilátero, \n",
    "isósceles ou escaleno.\n",
    "\n",
    "Dicas:\n",
    "    - Três lados formam um triângulo quando a soma de quaisquer dois lados for maior que o terceiro;\n",
    "    - Triângulo Equilátero: três lados iguais;\n",
    "    - Triângulo Isósceles: quaisquer dois lados iguais;\n",
    "    - Triângulo Escaleno: três lados diferentes;"
   ]
  },
  {
   "cell_type": "code",
   "execution_count": null,
   "metadata": {},
   "outputs": [],
   "source": [
    "lado_x = input(\"Digite o lado X do triângulo: \")\n",
    "lado_y = input(\"Digite o lado Y do triângulo: \")\n",
    "lado_z = input(\"Digite o lado Z do triângulo: \")\n",
    "\n",
    "lado = \" \"\n",
    "\n",
    "if lado_x == lado_y == lado_z:\n",
    "    lado = \"Equilátero\"\n",
    "elif lado_x == lado_y :\n",
    "    lado = \"Isóceles\"\n",
    "else:\n",
    "    lado = \"Escaleno\"\n",
    "    \n",
    "print(lado)"
   ]
  },
  {
   "cell_type": "markdown",
   "metadata": {},
   "source": [
    "9 - Faça um programa que calcule as raízes de uma equação do segundo grau, na forma ax2 + bx + c. O programa deverá pedir os valores de a, b e c e fazer as consistências, informando ao usuário nas seguintes situações:\n",
    "\n",
    "    - Se o usuário informar o valor de A igual a zero, a equação não é do segundo grau e\n",
    "    o programa não deve fazer pedir os demais valores, sendo encerrado;\n",
    "    - Se o delta calculado for negativo, a equação não possui raizes reais. Informe ao\n",
    "    usuário e encerre o programa;\n",
    "    - Se o delta calculado for igual a zero a equação possui apenas uma raiz real;\n",
    "    informe-a ao usuário;\n",
    "    - Se o delta for positivo, a equação possui duas raiz reais; informe-as ao usuário;"
   ]
  },
  {
   "cell_type": "code",
   "execution_count": null,
   "metadata": {},
   "outputs": [],
   "source": [
    "import math\n",
    "\n",
    "print(\"Digite os termos das raízes [A,B,C]\")\n",
    "a = int(input(\"Digite o 1º termo [A]: \"))\n",
    "if a == 0:\n",
    "    print(\"Não a raiz quadrada de 0\")\n",
    "else:\n",
    "    b = int(input(\"Digite o 1º termo [B]: \"))\n",
    "    c = int(input(\"Digite o 1º termo [C]: \"))\n",
    "    d = (math.pow(b,2) - (4*a*c))\n",
    "    if d < 0:\n",
    "        print(\"Equação não possui raizes reais\")\n",
    "    elif d == 0:\n",
    "        raiz = -b (2*a)\n",
    "        print(f'Raiz = {raiz}')\n",
    "    else:\n",
    "        raiz1 = (-b + math.sqrt(d)) / (2*a)\n",
    "        raiz2 = (-b - math.sqrt(d)) / (2*a)\n",
    "        print(f'Raiz 1 {raiz1}, Raiz 2 {raiz2}')\n"
   ]
  },
  {
   "cell_type": "markdown",
   "metadata": {},
   "source": [
    "10 - Faça um Programa para um caixa eletrônico. O programa deverá perguntar ao usuário a valor do saque e depois informar quantas notas de cada valor serão fornecidas. As notas disponíveis serão as de 1, 5, 10, 50 e 100 reais. O valor mínimo é de 10 reais e o máximo de 600 reais. O programa não deve se preocupar com a quantidade de notas existentes na máquina.\n",
    "\n",
    "    - Exemplo 1: Para sacar a quantia de 256 reais, o programa fornece duas notas de\n",
    "    100, uma nota de 50, uma nota de 5 e uma nota de 1;\n",
    "    - Exemplo 2: Para sacar a quantia de 399 reais, o programa fornece três notas de\n",
    "    100, uma nota de 50, quatro notas de 10, uma nota de 5 e quatro notas de 1."
   ]
  },
  {
   "cell_type": "code",
   "execution_count": null,
   "metadata": {},
   "outputs": [],
   "source": [
    "saque = int(input(\"Digite o valor do saque: \"))\n",
    "\n",
    "if 10 <= saque <= 600:\n",
    "    notas_cem = saque / 100\n",
    "    saque = saque % 100\n",
    "\n",
    "    notas_cinquenta = saque / 50\n",
    "    saque = saque % 50\n",
    "\n",
    "    notas_dez = saque / 10\n",
    "    saque = saque % 10\n",
    "\n",
    "    notas_cinco = saque / 5\n",
    "    saque = saque % 5\n",
    "\n",
    "    notas_um = saque / 1\n",
    "\n",
    "    if notas_cem > 0:\n",
    "        print(notas_cem, \"notas de R$ 100\")\n",
    "    if notas_cinquenta > 0:\n",
    "        print(notas_cinquenta, \"notas de R$ 50\")\n",
    "    if notas_dez > 0:\n",
    "        print(notas_dez, \"notas de R$ 10\")\n",
    "    if notas_cinco > 0:\n",
    "        print(notas_cinco, \"notas de R$ 5\")\n",
    "    if notas_um > 0:\n",
    "        print(notas_um, \"notas de R$ 1\")\n",
    "              \n",
    "else:\n",
    "    print(\"Nao é possivel fazer o saque\")"
   ]
  },
  {
   "cell_type": "markdown",
   "metadata": {},
   "source": [
    "11 - Faça um programa que faça 5 perguntas para uma pessoa sobre um crime. As\n",
    "perguntas são:\n",
    "    \"Telefonou para a vítima?\"\n",
    "    \"Esteve no local do crime?\"\n",
    "    \"Mora perto da vítima?\"\n",
    "    \"Devia para a vítima?\"\n",
    "    \"Já trabalhou com a vítima?\"\n",
    "O programa deve no final emitir uma classificação sobre a participação da pessoa no\n",
    "crime. Se a pessoa responder positivamente a 2 questões ela deve ser classificada\n",
    "como \"Suspeita\", entre 3 e 4 como \"Cúmplice\" e 5 como \"Assassino\". Caso contrário,\n",
    "ele será classificado como \"Inocente\"."
   ]
  },
  {
   "cell_type": "code",
   "execution_count": null,
   "metadata": {},
   "outputs": [],
   "source": [
    "cont = 0\n",
    "depoimento = \"\"\n",
    "\n",
    "pergunta_um = input(\"Telefonou para a vítima? \")\n",
    "\n",
    "if pergunta_um.lower() == \"sim\":\n",
    "    cont = cont + 1\n",
    "else:\n",
    "    cont = cont + 0\n",
    "pergunta_dois = input(\"Esteve no local do crime? \")\n",
    "\n",
    "if pergunta_dois.lower() == \"sim\":\n",
    "    cont = cont + 1\n",
    "else:\n",
    "    cont = cont + 0\n",
    "pergunta_tres = input(\"Mora perto da vítima? \")\n",
    "\n",
    "if pergunta_tres.lower() == \"sim\":\n",
    "    cont = cont + 1\n",
    "else:\n",
    "    cont = cont + 0\n",
    "pergunta_quatro = input(\"Devia para a vítima? \")\n",
    "\n",
    "if pergunta_quatro.lower() == \"sim\":\n",
    "    cont = cont + 1\n",
    "else:\n",
    "    cont = cont + 0\n",
    "pergunta_cinco = input(\"Já trabalhou com a vítima? \")\n",
    "if pergunta_cinco.lower() == \"sim\":\n",
    "    cont = cont + 1\n",
    "else:\n",
    "    cont = cont + 0\n",
    "\n",
    "if cont <= 2:\n",
    "   print(\"Suspeito\") \n",
    "elif cont >= 3 or cont <= 4:\n",
    "    print(\"Cumplice\")\n",
    "elif cont == 5:\n",
    "    print(\"Assasino\")\n",
    "else:\n",
    "    print(\"Inocente\")\n",
    "\n"
   ]
  },
  {
   "cell_type": "code",
   "execution_count": null,
   "metadata": {},
   "outputs": [],
   "source": [
    "12 - Uma fruteira está vendendo frutas com a seguinte tabela de preços:\n",
    "\n",
    "            Até 5 Kg       Acima de 5 Kg\n",
    "    Morango R$ 2,50 por Kg R$ 2,20 por Kg\n",
    "    Maçã R$ 1,80 por Kg R$ 1,50 por Kg\n",
    "\n",
    "Se o cliente comprar mais de 8 Kg em frutas ou o valor total da compra ultrapassar\n",
    "R$ 25,00, receberá ainda um desconto de 10% sobre este total. Escreva um\n",
    "algoritmo para ler a quantidade (em Kg) de morangos e a quantidade (em Kg) de\n",
    "maças adquiridas e escreva o valor a ser pago pelo cliente."
   ]
  },
  {
   "cell_type": "code",
   "execution_count": null,
   "metadata": {},
   "outputs": [],
   "source": [
    "morango_Kg= float(input(\"Digte a quntidade em kg de morango: \"))\n",
    "maca_Kg= float(input(\"Digte a quntidade em kg de maça: \"))\n",
    "\n",
    "\n",
    "if morango_Kg <= 5:\n",
    "    pagar_Morango = (morango_Kg/1000)*2.5\n",
    "else:\n",
    "    pagar_Morango = (morango_Kg/1000)*2.2\n",
    "    pagar_Morango = pagar_Morango - pagar_Morango*0.1\n",
    "\n",
    "if maca_Kg <= 5:\n",
    "    pagar_Maca = (maca_Kg/1000)*1.0\n",
    "else:\n",
    "    pagar_Maca = (maca_Kg/1000)*1.5\n",
    "    pagar_Maca = pagar_Maca - pagar_Maca*0.1\n",
    "    \n",
    "print(f'Valor a pagar na maça R$:{pagar_Morango}' )\n",
    "print(f'Valor a pagar no morango R$:{pagar_Maca}')\n"
   ]
  },
  {
   "cell_type": "markdown",
   "metadata": {},
   "source": [
    "Loops"
   ]
  },
  {
   "cell_type": "code",
   "execution_count": null,
   "metadata": {},
   "outputs": [],
   "source": [
    "13. Faça um programa que peça uma nota, entre zero e dez. Mostre uma mensagem caso o valor seja \n",
    "inválido e continue pedindo até que o usuário informe um valor válido."
   ]
  },
  {
   "cell_type": "code",
   "execution_count": null,
   "metadata": {},
   "outputs": [],
   "source": [
    "while True:\n",
    "    nota = float(input(\"Digite uma nota entre 0 e 10: \"))\n",
    "    if nota >= 0 and nota <= 10:\n",
    "        break\n",
    "    else:\n",
    "        print (\"A nota digitada é inválida!\")\n",
    "\n",
    "print (f'{nota} é valido ')"
   ]
  },
  {
   "cell_type": "code",
   "execution_count": null,
   "metadata": {},
   "outputs": [],
   "source": [
    "14 - Faça um programa que leia 5 números e informe o maior número."
   ]
  },
  {
   "cell_type": "code",
   "execution_count": null,
   "metadata": {},
   "outputs": [],
   "source": [
    "num = 0\n",
    "maior = 0\n",
    "\n",
    "while num <= 4:\n",
    "    num = int(input('Dgite um unmero: '))\n",
    "    if num > maior:\n",
    "        maior =  num\n",
    "\n",
    "print(f'O maior numero é: {maior}')"
   ]
  },
  {
   "cell_type": "code",
   "execution_count": null,
   "metadata": {},
   "outputs": [],
   "source": [
    "15 - Faça um programa que leia 5 números e informe a soma e a média dos números."
   ]
  },
  {
   "cell_type": "code",
   "execution_count": null,
   "metadata": {},
   "outputs": [],
   "source": [
    "num = 0\n",
    "media = 0\n",
    "maior = 0\n",
    "\n",
    "while num <= 4:\n",
    "    num = int(input(\"Digite um numero:\"))\n",
    "    soma = soma + num\n",
    "    media = soma / 4\n",
    "    \n",
    "print(f'A soma é de : {soma}')\n",
    "print(f'A média é de: {media}')"
   ]
  },
  {
   "cell_type": "code",
   "execution_count": null,
   "metadata": {},
   "outputs": [],
   "source": [
    "16. Faça um programa que imprima na tela apenas os números ímpares entre 1 e 50."
   ]
  },
  {
   "cell_type": "code",
   "execution_count": null,
   "metadata": {},
   "outputs": [],
   "source": []
  },
  {
   "cell_type": "code",
   "execution_count": null,
   "metadata": {},
   "outputs": [],
   "source": [
    "17 - Desenvolva um gerador de tabuada, capaz de gerar a tabuada de qualquer número inteiro entre \n",
    "1 a 10. O usuário deve informar de qual numero ele deseja ver a tabuada. A saída deve ser conforme \n",
    "o exemplo abaixo:"
   ]
  },
  {
   "cell_type": "code",
   "execution_count": null,
   "metadata": {},
   "outputs": [],
   "source": [
    "tabuada=int(input(\"Tabuada do numero: \"))\n",
    "\n",
    "for count in range(10):\n",
    "    print(f'{tabuada} x {count+1} = {tabuada*(count+1)}' )\n"
   ]
  },
  {
   "cell_type": "markdown",
   "metadata": {},
   "source": [
    "18 - A série de Fibonacci é formada pela seqüência 1,1,2,3,5,8,13,21,34,55,... Faça um\n",
    "programa capaz de gerar a série até o n−ésimo termo."
   ]
  },
  {
   "cell_type": "code",
   "execution_count": null,
   "metadata": {},
   "outputs": [],
   "source": [
    "Nant = 1\n",
    "Fibonacci = 0\n",
    "\n",
    "n = int(input('Digite um número:(Este vai ser o nº de elementos da sequência) '))\n",
    "\n",
    "while n != 0:\n",
    "    print('{}'.format(Fibonacci), end=' → ')\n",
    "    Fibonacci = Fibonacci + Nant\n",
    "    Nant = Fibonacci - Nant\n",
    "    n -= 1\n",
    "print('FIM')"
   ]
  },
  {
   "cell_type": "markdown",
   "metadata": {},
   "source": [
    "19 - Faça um programa que calcule o fatorial de um número inteiro fornecido pelo\n",
    "usuário. Ex.: 5!=5.4.3.2.1=120"
   ]
  },
  {
   "cell_type": "code",
   "execution_count": null,
   "metadata": {},
   "outputs": [],
   "source": [
    "n = int(input('Digite um número para saber o seu Fatorial: '))\n",
    "m = 1\n",
    "\n",
    "while n >= 1:\n",
    "    m *= n\n",
    "    n = (n - 1)\n",
    "    \n",
    "print(f'\\nResulta em um Fatorial de {m}')"
   ]
  },
  {
   "cell_type": "markdown",
   "metadata": {},
   "source": [
    "20 - O Sr. Manoel Joaquim possui uma grande loja de artigos de R$ 1,99, com cerca de 10 caixas. Para agilizar o cálculo de quanto cada cliente deve pagar ele desenvolveu um tabela que contém o número de itens que o cliente comprou e ao lado o valor da conta. Desta forma a atendente do caixa precisa apenas contar quantos itens o cliente está levando e olhar na tabela de preços. Você foi contratado\n",
    "para desenvolver o programa que monta esta tabela de preços, que conterá os preços de 1 até 50 produtos, conforme o exemplo abaixo:"
   ]
  },
  {
   "cell_type": "code",
   "execution_count": null,
   "metadata": {},
   "outputs": [],
   "source": []
  },
  {
   "cell_type": "markdown",
   "metadata": {},
   "source": [
    "21 - O Sr. Manoel Joaquim acaba de adquirir uma panificadora e pretende implantara metodologia da tabelinha, que já é um sucesso na sua loja de 1,99. Você foi contratado para desenvolver o programa que monta a tabela de preços de pães, de 1 até 50 pães, a partir do preço do pão informado pelo usuário, conforme o exemplo abaixo:"
   ]
  },
  {
   "cell_type": "code",
   "execution_count": null,
   "metadata": {},
   "outputs": [],
   "source": [
    "pao = float(input('Digite o preço do pão: '))\n",
    "i = \n",
    "\n",
    "while i <= 50:\n",
    "    tab_preco = pao*i\n",
    "    print(f'Tabela de preços {i} - {tab_preco}')"
   ]
  },
  {
   "cell_type": "markdown",
   "metadata": {},
   "source": [
    "22 - O Sr. Manoel Joaquim expandiu seus negócios para além dos negócios de 1,99 e agora possui uma loja de conveniências. Faça um programa que implemente uma caixa registradora rudimentar. O programa deverá receber um número desconhecido de valores referentes aos preços das mercadorias. Um valor zero deve ser informado pelo operador para indicar o final da compra. O programa deve então mostrar o total da compra e perguntar o valor em dinheiro que o cliente forneceu, para então calcular e mostrar o valor do troco. Após esta operação, o programa deverá voltar ao ponto inicial, para registrar a próxima compra. A saída deve ser conforme o exemplo abaixo:"
   ]
  },
  {
   "cell_type": "code",
   "execution_count": null,
   "metadata": {},
   "outputs": [],
   "source": []
  },
  {
   "cell_type": "markdown",
   "metadata": {},
   "source": [
    "23 - Foi feita uma estatística em cinco cidades brasileiras para coletar dados sobre\n",
    "acidentes de trânsito. Foram obtidos os seguintes dados:\n",
    "\n",
    "    - Código da cidade;\n",
    "    - Número de veículos de passeio (em 1999);\n",
    "    - Número de acidentes de trânsito com vítimas (em 1999). Deseja-se saber:\n",
    "    - Qual o maior e menor índice de acidentes de transito e a que cidade pertence;\n",
    "    - Qual a média de veículos nas cinco cidades juntas;\n",
    "    - Qual a média de acidentes de trânsito nas cidades com menos de 2.000 veículos de passeio"
   ]
  },
  {
   "cell_type": "code",
   "execution_count": null,
   "metadata": {},
   "outputs": [],
   "source": [
    "maior = menor = count = soma = soma2 = soma3 = soma4 =0\n",
    "cid = ''\n",
    "cid2 = ''\n",
    "for c in range(1,6):\n",
    "    cidade = input(\"Digite o nome da cidade: \")\n",
    "    codigo = int(input(\"DIgite o codigo da cidade: \"))\n",
    "    veiculos = int(input(\"Numero de veiculos de passeio: \"))\n",
    "    acidentes = int(input(\"Numero de acidentes de transito com vitimas: \"))\n",
    "    count+=1\n",
    "    soma+= veiculos\n",
    "    soma2 = soma / count\n",
    "    soma3+=acidentes\n",
    "\n",
    "    if acidentes > maior:\n",
    "        maior = acidentes\n",
    "        cid = cidade\n",
    "    if count == 1 or acidentes < menor:\n",
    "        menor = acidentes\n",
    "        cid2 = cidade\n",
    "    if veiculos < 2000:\n",
    "        soma4 = soma3 / count\n",
    "\n",
    "print(\"-=\"*30)\n",
    "print(f\"O menor indice de acidentes de transito {menor} cidade que pertence {cid2}\")\n",
    "print(f\"O maior indice de acidenstes de transito {maior} cidade que pertence {cid}\")\n",
    "print(f\"Media de veiculos nas cincos cidades {soma2}\")\n",
    "print(f\"Media de acidentes de transitos nas cidades com menos de 2000 {soma4}\") "
   ]
  },
  {
   "cell_type": "markdown",
   "metadata": {},
   "source": [
    "24 - Faça um programa que receba o valor de uma dívida e mostre uma tabela com os seguintes dados: \n",
    "valor da dívida, valor dos juros, quantidade de parcelas e valor da parcela.\n",
    "Os juros e a quantidade de parcelas seguem a tabela abaixo:\n",
    "Quantidade de Parcelas % de Juros sobre o valor inicial da dívida"
   ]
  },
  {
   "cell_type": "code",
   "execution_count": null,
   "metadata": {},
   "outputs": [],
   "source": []
  },
  {
   "cell_type": "markdown",
   "metadata": {},
   "source": [
    "25 - Faça um programa que mostre os n termos da Série a seguir:\n",
    "S = 1/1 + 2/3 + 3/5 + 4/7 + 5/9 + ... + n/m.\n",
    "Imprima no final a soma da série."
   ]
  }
 ],
 "metadata": {
  "kernelspec": {
   "display_name": "Python 3",
   "language": "python",
   "name": "python3"
  },
  "language_info": {
   "codemirror_mode": {
    "name": "ipython",
    "version": 3
   },
   "file_extension": ".py",
   "mimetype": "text/x-python",
   "name": "python",
   "nbconvert_exporter": "python",
   "pygments_lexer": "ipython3",
   "version": "3.7.1"
  }
 },
 "nbformat": 4,
 "nbformat_minor": 2
}
