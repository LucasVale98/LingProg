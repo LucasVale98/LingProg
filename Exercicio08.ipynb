{
 "cells": [
  {
   "cell_type": "markdown",
   "metadata": {},
   "source": [
    "Exercicio08"
   ]
  },
  {
   "cell_type": "markdown",
   "metadata": {},
   "source": [
    "1 - Escreva uma função que calcula a soma dos n primeiros números naturais, \n",
    "dado que n é recebido como parâmetro. Escreva um decorator que garanta que \n",
    "o valor recebido é natural (maior ou igual a 1)."
   ]
  },
  {
   "cell_type": "code",
   "execution_count": 9,
   "metadata": {},
   "outputs": [],
   "source": [
    "def valida (f):\n",
    "    def soma_primeros(n):\n",
    "        if (n>=1):\n",
    "            return f(n)\n",
    "        else:\n",
    "            print(\"Menor que 1\")\n",
    "            return 0\n",
    "    return soma_primeros\n",
    "def funcao(n):\n",
    "    soma=0\n",
    "    for x in range(n+1):\n",
    "        soma = soma + x\n",
    "    return soma"
   ]
  },
  {
   "cell_type": "code",
   "execution_count": null,
   "metadata": {},
   "outputs": [],
   "source": [
    "funcao = valida(funcao)\n",
    "print(funcao(24))\n",
    "print(funcao(-5))\n",
    "\n",
    "def valida2 (f):\n",
    "    def soma_primeiros2(n):\n",
    "        if (n>=1):\n",
    "            return f(n)\n",
    "        else:\n",
    "            print(\"Menor que 1\")\n",
    "            return 0\n",
    "    return soma_primeiros2\n",
    "\n",
    "@valida2\n",
    "def funcao2(n):\n",
    "    soma=0\n",
    "    for x in range(n+1):\n",
    "        soma = soma + x\n",
    "    return soma\n",
    "\n",
    "print(funcao2(4))\n",
    "print(funcao2(-5))"
   ]
  },
  {
   "cell_type": "code",
   "execution_count": null,
   "metadata": {},
   "outputs": [],
   "source": [
    "class Valida:\n",
    "    def __init__(self,f3):\n",
    "        self.f3 = f3\n",
    "    def __call__(self,n):\n",
    "        if (n>=1):\n",
    "            return self.f3(n)\n",
    "        else:\n",
    "            print(\"Menor que 1\")\n",
    "            return -5\n",
    "@Valida\n",
    "def funcao2(n):\n",
    "    soma=0\n",
    "    for x in range(n+1):\n",
    "        soma = soma + x\n",
    "    return soma\n",
    "\n",
    "print(funcao2(8))\n",
    "print(funcao2(-8))"
   ]
  },
  {
   "cell_type": "code",
   "execution_count": null,
   "metadata": {},
   "outputs": [],
   "source": [
    "2 - Escreva uma função que recebe uma lista de triplas e, para cada uma, gera uma\n",
    "equação do segundo grau considerando que os elementos da tripla são os\n",
    "coeficientes usualmente denominados a, b e c da equação. Note que a sua função\n",
    "deverá devolver uma lista de equações. A geração das equações deve ser feita por\n",
    "meio de, evidentemente, decorators."
   ]
  },
  {
   "cell_type": "code",
   "execution_count": null,
   "metadata": {},
   "outputs": [],
   "source": [
    "def funcao_recebe(f):\n",
    "    equacoes = []\n",
    "    def decorator(lista):\n",
    "        for e in lista:\n",
    "            equacoes.append(f(e))\n",
    "        return equacoes \n",
    "    return decorator\n",
    "def funcao(lista):\n",
    "    eq = str(lista) + \"xˆ2\" + \"+\" + str(lista) + \"x\" + \"+\"+ str(lista)\n",
    "    return eq\n",
    "funcao = funcao_recebe(funcao)\n",
    "print(funcao([6,2,7]))"
   ]
  },
  {
   "cell_type": "code",
   "execution_count": null,
   "metadata": {},
   "outputs": [],
   "source": [
    "def funcao_recebe2(f2):\n",
    "    equacoes = []\n",
    "    def decorator2(lista):\n",
    "        for e in lista:\n",
    "            equacoes.append(f2(e))\n",
    "        return equacoes\n",
    "    return decorator2\n",
    "\n",
    "@funcao_recebe2\n",
    "def funcao2(lista):\n",
    "    eq = str(lista) + \"xˆ2\" + \"+\" + str(lista) + \"x\" + \"+\"+ str(lista)\n",
    "    return eq\n",
    "print(funcao2([6,4,2]))"
   ]
  },
  {
   "cell_type": "code",
   "execution_count": null,
   "metadata": {},
   "outputs": [],
   "source": [
    "class Eq:\n",
    "    def __init__ (self,f3):\n",
    "        self.f3 = f3\n",
    "        self.equacoes =[]\n",
    "    def __call__(self,lista):\n",
    "        for e in lista:\n",
    "            self.equacoes.append(self.f3(e))\n",
    "        return self.equacoes\n",
    "@Eq\n",
    "def funcao3(lista):\n",
    "    eq = str(lista) + \"xˆ2\" + \"+\" + str(lista) + \"x\" + \"+\"+ str(lista)\n",
    "    return eq\n",
    "print(funcao3([8,4,2]))"
   ]
  },
  {
   "cell_type": "code",
   "execution_count": null,
   "metadata": {},
   "outputs": [],
   "source": [
    "3 - Escreva uma função que exibe uma lista recebida como parâmetro. Ela deve,\n",
    "contudo, ordenar a lista antes. A ordenação deve ser feita por meio de um\n",
    "decorator"
   ]
  },
  {
   "cell_type": "code",
   "execution_count": null,
   "metadata": {},
   "outputs": [],
   "source": [
    "def ordena(f):\n",
    "    def decorator(lista):\n",
    "        return f(sorted(lista))\n",
    "\n",
    "    return decorator\n",
    "\n",
    "\n",
    "def funcao(lista):\n",
    "    print(lista)"
   ]
  },
  {
   "cell_type": "code",
   "execution_count": null,
   "metadata": {},
   "outputs": [],
   "source": [
    "def ordena2(f2):\n",
    "    def decorator(lista):\n",
    "        return f2(sorted(lista))\n",
    "\n",
    "    return decorator\n",
    "\n",
    "\n",
    "@ordena2\n",
    "def funcao2(lista):\n",
    "    print(lista)\n",
    "\n",
    "\n",
    "print(funcao2([30, 2, 4, 12, 7, 30, 2, 7]))"
   ]
  },
  {
   "cell_type": "code",
   "execution_count": null,
   "metadata": {},
   "outputs": [],
   "source": [
    "class Ordena:\n",
    "    def __init__(self, f3):\n",
    "        self.f3 = f3\n",
    "\n",
    "    def __call__(self, lista):\n",
    "        return self.f3(sorted(lista))\n",
    "\n",
    "\n",
    "@Ordena\n",
    "def funcao3(lista):\n",
    "    print(lista)\n",
    "\n",
    "\n",
    "print(funcao3([12, 21, 5, 97, 18, 102, 13, 26]))"
   ]
  },
  {
   "cell_type": "code",
   "execution_count": null,
   "metadata": {},
   "outputs": [],
   "source": [
    "4 - Escreva uma classe para representar um café que, a princípio, tem somente preço.\n",
    "Um cafezinho custa 5 reais. Escreva classes para representar os adicionais: palitos de\n",
    "chocolate (0,50 cents), espuma de leite (0,20 cents), caramelo (0,10 cents) e canela\n",
    "(0,30 cents). Crie um objeto café e, a seguir, faça um menuzinho em que o usuário\n",
    "pode ficar indefinidamente escolhendo adicionais: 1 para chocolate, 2 para espuma\n",
    "de leite, 3 para caramelo e 4 para canela. A cada adicional escolhido, decore o objeto\n",
    "café. No final, mostre o preço total."
   ]
  },
  {
   "cell_type": "code",
   "execution_count": null,
   "metadata": {},
   "outputs": [],
   "source": [
    "class Cafe:\n",
    "    def __init__(self,preco=5):\n",
    "        self.preco = preco\n",
    "\n",
    "    def __call__(self,adicional):\n",
    "        self.preco = self.preco + adicional.preco\n",
    "        return self.preco\n",
    "\n",
    "class Chocolates:\n",
    "    def __init__ (self,chocolate):\n",
    "        self.preco = chocolate\n",
    "class EspumaLeite:\n",
    "    def __init__ (self,leite):\n",
    "        self.preco = leite\n",
    "class Caramelo:\n",
    "    def __init__ (self,caramelo):\n",
    "        self.preco = caramelo\n",
    "class Canela:\n",
    "    def __init__ (self,canela):\n",
    "        self.preco=canela\n",
    "\n",
    "cafe = Cafe()\n",
    "entrada = int(input(\"Menu: \\n 1-Palitos de chocolate \\n 2-Espuma de leite \\n 3-Caramelo \\n 4-Canela \\n 0-Sair \\n\"))\n",
    "\n",
    "while (entrada != 0):\n",
    "    if (entrada ==1):\n",
    "        print(\"chocolate\")\n",
    "        cafe(Chocolates(.50))\n",
    "    if(entrada == 2):\n",
    "        print(\"espuma de leite\")\n",
    "        cafe(EspumaLeite(.20))\n",
    "    if(entrada == 3):\n",
    "        print(\"Caramelo\")\n",
    "        cafe(Caramelo(0.10))\n",
    "    if (entrada ==4):\n",
    "        print(\"Canela\")\n",
    "        cafe(Canela(0.30))\n",
    "    entrada = int(input(\"Digite: \\n 1-Chocolate \\n 2-Espuma de leite \\n 3-Caramelo \\n 4-Canela \\n 0-Sair \\n\"))\n",
    "print(cafe.preco)"
   ]
  }
 ],
 "metadata": {
  "kernelspec": {
   "display_name": "Python 3",
   "language": "python",
   "name": "python3"
  },
  "language_info": {
   "codemirror_mode": {
    "name": "ipython",
    "version": 3
   },
   "file_extension": ".py",
   "mimetype": "text/x-python",
   "name": "python",
   "nbconvert_exporter": "python",
   "pygments_lexer": "ipython3",
   "version": "3.7.1"
  }
 },
 "nbformat": 4,
 "nbformat_minor": 2
}
