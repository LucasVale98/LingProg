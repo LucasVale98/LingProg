{
 "cells": [
  {
   "cell_type": "markdown",
   "metadata": {},
   "source": [
    "Exercicio04"
   ]
  },
  {
   "cell_type": "markdown",
   "metadata": {},
   "source": [
    "1 Menor de dois pares: Escreva uma função que retorne o menor de dois números\n",
    "dados se ambos os números forem pares, mas retorna o maior se um dos dois for\n",
    "ímpar. Exemplo:\n",
    "\n"
   ]
  },
  {
   "cell_type": "code",
   "execution_count": 2,
   "metadata": {},
   "outputs": [
    {
     "name": "stdout",
     "output_type": "stream",
     "text": [
      "O menor numero é: 2\n",
      "O maior numero é: 5\n"
     ]
    }
   ],
   "source": [
    "def menor_de_dois_pares(num1, num2):\n",
    "    if num1 < num2:\n",
    "        print(f'O menor numero é: {num1}')\n",
    "    else:\n",
    "        print(f'O menor numero é: {num2}')\n",
    "\n",
    "def maior_de_dois_pares(num1, num2):\n",
    "    if num1 > num2:\n",
    "        print(f'O maior numero é: {num1}')\n",
    "    else:\n",
    "        print(f'O maior numero é: {num2}')\n",
    "        \n",
    "menor_de_dois_pares(2, 4)\n",
    "maior_de_dois_pares(2, 5)"
   ]
  },
  {
   "cell_type": "markdown",
   "metadata": {},
   "source": [
    "2 Mesma letra: Escreva uma função que receba uma string com duas palavras e retorne True se ambas palavras começarem com a mesma letra. Exemplo:\n",
    "\n",
    "    mesma_letra('Cão covarde') -> True\n",
    "    mesma_letra('Vira Lata') -> False"
   ]
  },
  {
   "cell_type": "code",
   "execution_count": 3,
   "metadata": {},
   "outputs": [
    {
     "data": {
      "text/plain": [
       "True"
      ]
     },
     "execution_count": 3,
     "metadata": {},
     "output_type": "execute_result"
    }
   ],
   "source": [
    "def mesma_letra(str1, str2):\n",
    "    \n",
    "    if str1[0] == str2[0]:\n",
    "        return True\n",
    "    else:\n",
    "        return False\n",
    "\n",
    "mesma_letra(\"Casa\", \"Carro\")"
   ]
  },
  {
   "cell_type": "markdown",
   "metadata": {},
   "source": [
    "3 Mestre Yoda: Dada uma sentença, a função deve retornar a sentença com as\n",
    "palavras na ordem reversa."
   ]
  },
  {
   "cell_type": "code",
   "execution_count": 12,
   "metadata": {},
   "outputs": [
    {
     "name": "stdout",
     "output_type": "stream",
     "text": [
      "casa em estou Eu "
     ]
    }
   ],
   "source": [
    "def Mestre_yoda(yoda):\n",
    "    for i in reversed(yoda.split(' ')):\n",
    "        print(i, end = \" \")     \n",
    "    \n",
    "Mestre_yoda(\"Eu estou em casa\")"
   ]
  },
  {
   "cell_type": "markdown",
   "metadata": {},
   "source": [
    "4 Tem 33: Faça uma função que retorne True se, dada uma lista de inteiros, houver\n",
    "em alguma posição da lista um 3 do lado de outro 3"
   ]
  },
  {
   "cell_type": "code",
   "execution_count": 6,
   "metadata": {},
   "outputs": [
    {
     "name": "stdout",
     "output_type": "stream",
     "text": [
      "True\n",
      "False\n",
      "True\n"
     ]
    }
   ],
   "source": [
    "def tem_33(lista):\n",
    "    \n",
    "    tem_Trinta = True\n",
    "    for tem in lista:\n",
    "        if tem == 3:\n",
    "            if  tem_Trinta is True:\n",
    "                return True\n",
    "            else:\n",
    "                tem_Trinta = True\n",
    "        else:\n",
    "            tem_Trinta = False\n",
    "    else:\n",
    "        return False\n",
    "        \n",
    "        \n",
    "print(tem_33([1,3,3])) \n",
    "print(tem_33([1,3,1,3]) )\n",
    "print(tem_33([3,1,3]))"
   ]
  },
  {
   "cell_type": "markdown",
   "metadata": {},
   "source": [
    "5 Blackjack: Faça uma função que receba 3 inteiros entre 1 e 11. Se a soma deles for\n",
    "menor que 21, retorne o valor da soma. Se for mair do que 21 e houver um 11, subtraia 10 da soma antes de apresentar o resultado. Se o valor da soma passar de\n",
    "21, retorne ‘ESTOUROU’. Exemplo:"
   ]
  },
  {
   "cell_type": "code",
   "execution_count": 9,
   "metadata": {},
   "outputs": [
    {
     "name": "stdout",
     "output_type": "stream",
     "text": [
      "18\n",
      "Estoro\n",
      "19\n"
     ]
    }
   ],
   "source": [
    "def Blackjack(int1,int2, int3):\n",
    "    sum = int1 + int2 + int3\n",
    "    if sum < 21:\n",
    "        return sum\n",
    "    else:\n",
    "        if int1 == 11 or int2 == 11 or int3 == 11:\n",
    "            sum = sum - 10\n",
    "        if sum > 21:\n",
    "            return 'Estoro'\n",
    "        else:\n",
    "            return sum\n",
    "\n",
    "\n",
    "print(Blackjack(5,6,7)) \n",
    "print(Blackjack(9,9,9)) \n",
    "print(Blackjack(9,9,11))    "
   ]
  },
  {
   "cell_type": "markdown",
   "metadata": {},
   "source": [
    "6 Espião: Escreva uma função que receba uma lista de inteiros e retorne True se contém um 007 \n",
    "em ordem, mesmo que não contínuo. "
   ]
  },
  {
   "cell_type": "code",
   "execution_count": 11,
   "metadata": {},
   "outputs": [
    {
     "name": "stdout",
     "output_type": "stream",
     "text": [
      "True\n",
      "True\n",
      "False\n"
     ]
    }
   ],
   "source": [
    "def Espiao(espiao):\n",
    "    zero1 = False\n",
    "    zero2 = False\n",
    "    sete = False\n",
    "    \n",
    "    for i in espiao:\n",
    "        if i == 0:\n",
    "            if sete is False:\n",
    "                if zero1 is False and zero2 is False:\n",
    "                    zero1 = True\n",
    "                elif zero1 is True and zero2 is False:\n",
    "                    zero2 = True\n",
    "                else:\n",
    "                    return False\n",
    "            else:\n",
    "                return False\n",
    "        elif i == 7:\n",
    "            if zero1 is True and zero2 is True:\n",
    "                return True\n",
    "            else:\n",
    "                return False\n",
    "            \n",
    "print(Espiao([1,2,4,0,0,7,5]))\n",
    "print(Espiao([1,0,2,4,0,5,7]))\n",
    "print(Espiao([1,7,2,4,0,5,0]))"
   ]
  },
  {
   "cell_type": "code",
   "execution_count": null,
   "metadata": {},
   "outputs": [],
   "source": []
  }
 ],
 "metadata": {
  "kernelspec": {
   "display_name": "Python 3",
   "language": "python",
   "name": "python3"
  },
  "language_info": {
   "codemirror_mode": {
    "name": "ipython",
    "version": 3
   },
   "file_extension": ".py",
   "mimetype": "text/x-python",
   "name": "python",
   "nbconvert_exporter": "python",
   "pygments_lexer": "ipython3",
   "version": "3.7.1"
  }
 },
 "nbformat": 4,
 "nbformat_minor": 2
}
