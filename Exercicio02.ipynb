{
 "cells": [
  {
   "cell_type": "markdown",
   "metadata": {},
   "source": [
    "Exercicio02"
   ]
  },
  {
   "cell_type": "markdown",
   "metadata": {},
   "source": [
    "1 Crie um programa que recebe uma lista de números e\n",
    "    - retorne o maior elemento\n",
    "    - retorne a soma dos elementos\n",
    "    - retorne o número de ocorrências do primeiro elemento da lista\n",
    "    - retorne a média dos elementos\n",
    "    - retorne o valor mais próximo da média dos elementos\n",
    "    - retorne a soma dos elementos com valor negativo\n",
    "    - retorne a quantidade de vizinhos iguais"
   ]
  },
  {
   "cell_type": "code",
   "execution_count": 7,
   "metadata": {},
   "outputs": [
    {
     "name": "stdout",
     "output_type": "stream",
     "text": [
      "O maior elemento é: 19\n",
      "A soma dos elemento é: 120\n",
      "O número de ocorrências do primeiro elemento da lista: 2\n",
      "A média dos elementos é: 15.0\n"
     ]
    }
   ],
   "source": [
    "lista = [12,13,14,15,12,17,18,19]\n",
    "\n",
    "soma = sum(lista)\n",
    "qtd  = len(lista)\n",
    "media = soma/qtd\n",
    "\n",
    "print(f'O maior elemento é: {max(lista)}' )\n",
    "print(f'A soma dos elemento é: {sum(lista)}' )\n",
    "print(f'O número de ocorrências do primeiro elemento da lista: {lista.count(12)}' )\n",
    "print(f'A média dos elementos é: {media}' )\n",
    "\n",
    "\n"
   ]
  },
  {
   "cell_type": "markdown",
   "metadata": {},
   "source": [
    "2 Faça um programa que receba duas listas e retorne True se são iguais ou False caso contrario.\n",
    "Duas listas são iguais se possuem os mesmos valores e na mesma ordem."
   ]
  },
  {
   "cell_type": "code",
   "execution_count": null,
   "metadata": {},
   "outputs": [],
   "source": [
    "lista_01 = [1,2,3,4,5,6,7,8]\n",
    "lista_02 = [1,6,4,4,2,5,2,7]\n",
    "        \n",
    "print(f'O valor das lista são: {lista_01 == lista_02}' )\n",
    "        "
   ]
  },
  {
   "cell_type": "markdown",
   "metadata": {},
   "source": [
    "3 Faça um programa que receba duas listas e retorne True se têm os mesmos elementos ou False caso contrário\n",
    "Duas listas possuem os mesmos elementos quando são compostas pelos mesmos valores, mas não obrigatoriamente na mesma ordem."
   ]
  },
  {
   "cell_type": "code",
   "execution_count": null,
   "metadata": {},
   "outputs": [],
   "source": [
    "lista_01 = [1,2,3,4,5,6,7,8]\n",
    "lista_02 = [1,2,3,4,5,6,7,6]\n",
    "\n",
    "\n",
    "print(f'O valor das lista são: {lista_01[:len(lista_01)] == lista_02[:len(lista_02)]}')"
   ]
  },
  {
   "cell_type": "markdown",
   "metadata": {},
   "source": [
    "4 Faça um programa que percorre uma lista com o seguinte formato: [['Brasil',\n",
    "'Italia', [10, 9]], ['Brasil', 'Espanha', [5, 7]], ['Italia', 'Espanha', [7,8]]]. Essa lista indica o\n",
    "número de faltas que cada time fez em cada jogo. Na lista acima, no jogo entre Brasil\n",
    "e Itália, o Brasil fez 10 faltas e a Itália fez 9.\n",
    "O programa deve imprimir na tela:\n",
    "    - o total de faltas do campeonato\n",
    "    - o time que fez mais faltas\n",
    "    - o time que fez menos faltas"
   ]
  },
  {
   "cell_type": "code",
   "execution_count": null,
   "metadata": {},
   "outputs": [],
   "source": [
    "jogos = [\n",
    "    ['Brasil', 'Italia', [10, 9]], \n",
    "    ['Brasil', \"Grecia\", [5, 4]]]\n",
    "\n",
    "total_faltas = 0\n",
    "for jogo in jogos:\n",
    "    total_faltas += jogo[2][0]\n",
    "    total_faltas += jogo[2][1]\n",
    "print (f'O total de faltas do campeonato é: {total_faltas}')\n",
    "\n",
    "mais_Falta = {}\n",
    "for jogo in jogos:\n",
    "    mais_Falta[jogo[0]] = 0\n",
    "    mais_Falta[jogo[1]] = 0\n",
    "\n",
    "for jogo in jogos:\n",
    "    mais_Falta[jogo[0]] += jogo[2][0]\n",
    "    mais_Falta[jogo[1]] += jogo[2][1]\n",
    "\n",
    "print (f'O time que mais faltas fez {mais_Falta}')\n",
    "\n",
    "menos_Falta = {}\n",
    "for jogo in jogos:\n",
    "    menos_Falta[jogo[0]] = 0\n",
    "    menos_Falta[jogo[1]] = 0\n",
    "\n"
   ]
  },
  {
   "cell_type": "markdown",
   "metadata": {},
   "source": [
    "5 Escreva um programa que conta a quantidade de vogais em uma string e armazena\n",
    "tal quantidade em um dicionário, onde a chave é a vogal considerada."
   ]
  },
  {
   "cell_type": "code",
   "execution_count": 9,
   "metadata": {},
   "outputs": [
    {
     "name": "stdout",
     "output_type": "stream",
     "text": [
      "Quantidade de A: 3\n",
      "Quantidade de E: 2\n",
      "Quantidade de A: 2\n",
      "Quantidade de E: 1\n",
      "Quantidade de A: 1\n"
     ]
    }
   ],
   "source": [
    "string = \"Republica da Coreia\"\n",
    "dic = {\"a\": 0, \"e\": 0, \"i\": 0, \"o\": 0, \"u\": 0,}\n",
    "\n",
    "for vogal in string:\n",
    "    if vogal.lower() == \"a\":\n",
    "        dic[\"a\"] += 1\n",
    "    if vogal.lower() == \"e\":\n",
    "        dic[\"e\"] += 1\n",
    "    if vogal.lower() == \"i\":\n",
    "        dic[\"i\"] += 1\n",
    "    if vogal.lower() == \"o\":\n",
    "        dic[\"o\"] += 1\n",
    "    if vogal.lower() == \"u\":\n",
    "        dic[\"u\"] += 1\n",
    "        \n",
    "print(f'Quantidade de A: {dic[\"a\"]}')\n",
    "print(f'Quantidade de E: {dic[\"e\"]}')\n",
    "print(f'Quantidade de A: {dic[\"i\"]}')\n",
    "print(f'Quantidade de E: {dic[\"o\"]}')\n",
    "print(f'Quantidade de A: {dic[\"u\"]}')"
   ]
  },
  {
   "cell_type": "markdown",
   "metadata": {},
   "source": [
    "6 Escreva um programa que lê duas notas de vários alunos e ê̂ duas notas de vários alunos e armazena tais notas em armazena tais notas em\n",
    "um dicionário, onde a chave é o nome do aluno. A entrada de dados deve terminar\n",
    "quando for lida uma string vazia como nome. Escreva uma função que retorna a\n",
    "média do aluno, dado seu nome."
   ]
  },
  {
   "cell_type": "code",
   "execution_count": 10,
   "metadata": {
    "scrolled": true
   },
   "outputs": [
    {
     "name": "stdout",
     "output_type": "stream",
     "text": [
      "Insira o nome do aluno: Jorge\n",
      "Insira a primeira nota: 9\n",
      "Insira a segunda nota: 8\n",
      "Insira o nome do aluno: Paulo\n",
      "Insira a primeira nota: 8\n",
      "Insira a segunda nota: 6\n",
      "Insira o nome do aluno: Paulo\n",
      "Insira a primeira nota: 5\n",
      "Insira a segunda nota: 6\n",
      "Insira o nome do aluno: \n",
      "Aluno: Paulo\n"
     ]
    },
    {
     "data": {
      "text/plain": [
       "5.5"
      ]
     },
     "execution_count": 10,
     "metadata": {},
     "output_type": "execute_result"
    }
   ],
   "source": [
    "dic = {}\n",
    "i = 0\n",
    "nome = input(\"Insira o nome do aluno: \")\n",
    "while nome != \"\": #Programa ira parar quando receber vazio\n",
    "    dic[nome] = [\n",
    "        float(input(\"Insira a primeira nota: \")),\n",
    "        float(input(\"Insira a segunda nota: \"))\n",
    "    ]\n",
    "    nome = input(\"Insira o nome do aluno: \")\n",
    "\n",
    "def media(nome):\n",
    "    return (dic[nome][0] + dic[nome][1]) / 2\n",
    "\n",
    "media(input(\"Aluno: \"))\n",
    "\n"
   ]
  },
  {
   "cell_type": "markdown",
   "metadata": {},
   "source": [
    "7 - Uma pista de Kart permite 10 voltas para cada um de 6 corredores. Escreva um\n",
    "programa que leia todos os tempos em segundos e os guarde em um dicionário,\n",
    "onde a chave é o nome do corredor. Ao final diga de quem foi a melhor volta da\n",
    "prova e em que volta; e ainda a classificação final em ordem (1o o campeão). O\n",
    "campeão é o que tem a menor média de tempos."
   ]
  },
  {
   "cell_type": "code",
   "execution_count": 20,
   "metadata": {},
   "outputs": [
    {
     "name": "stdout",
     "output_type": "stream",
     "text": [
      "1ª lugar: Joge : segundos 54.5 \n",
      "2ª lugar: Maria : segundos 54.5 \n",
      "3ª lugar: Antonio : segundos 54.5 \n",
      "4ª lugar: Carlos : segundos 54.5 \n",
      "5ª lugar: Pedro : segundos 54.5 \n",
      "6ª lugar: Vitor : segundos 54.7 \n"
     ]
    }
   ],
   "source": [
    "import operator\n",
    "\n",
    "corredores = {\n",
    "    \"Vitor\" : [57,45,59,56,59,53,55,55,55,53],\n",
    "    \"Joge\" : [57,45,59,56,59,53,54,54,55,53],\n",
    "    \"Maria\" : [57,45,59,56,59,53,54,54,55,53],\n",
    "    \"Antonio\" : [57,45,59,56,59,53,54,54,55,53],\n",
    "    \"Carlos\" : [57,45,59,56,59,53,54,54,55,53],\n",
    "    \"Pedro\" : [57,45,59,56,59,53,54,54,55,53]\n",
    "}\n",
    "\n",
    "volta = 0\n",
    "medias = corredores\n",
    "nome = \"\"\n",
    "melhorVolta = corredores[\"Vitor\"][0]\n",
    "\n",
    "for chave in corredores:\n",
    "    soma = 0\n",
    "    for num in corredores[chave]:\n",
    "        if num < melhorVolta:\n",
    "            melhorVolta = num\n",
    "            nome = chave\n",
    "        soma += num\n",
    "    medias[chave] = soma / 10\n",
    "\n",
    "sort = sorted(medias.items(), key=operator.itemgetter(1))\n",
    "for i in range(0, 6):\n",
    "    print(f'{i + 1}ª lugar: {sort[i][0]} : segundos {sort[i][1]} ')\n",
    "   "
   ]
  },
  {
   "cell_type": "markdown",
   "metadata": {},
   "source": [
    "8 Escreva um programa para armazenar uma agenda de telefones em um dicionário.\n",
    "Cada pessoa pode ter um ou mais telefones e a chave do dicionário é o nome da\n",
    "pessoa. Seu programa deve ter as seguintes funções:\n",
    "    incluirNovoNome – essa função acrescenta um novo nome na agenda, com um ou\n",
    "    mais telefones. Ela deve receber como argumentos o nome e os telefones.\n",
    "    incluirTelefone – essa função acrescenta um telefone em um nome existente na\n",
    "    agenda. Caso o nome não exista na agenda, você ̂ duas notas de vários alunos e armazena tais notas     em deve perguntar se a pessoa deseja\n",
    "    inclui-lo. Caso a resposta seja afirmativa, use a função anterior para incluir o novo\n",
    "    nome.\n",
    "    excluirTelefone – essa função exclui um telefone de uma pessoa que já está na\n",
    "    agenda. Se a pessoa tiver apenas um telefone, ela deve ser excluída da agenda.\n",
    "    excluirNome – essa função exclui uma pessoa da agenda.\n",
    "    consultarTelefone – essa função retorna os telefones de uma pessoa na agenda"
   ]
  },
  {
   "cell_type": "code",
   "execution_count": 4,
   "metadata": {},
   "outputs": [
    {
     "name": "stdout",
     "output_type": "stream",
     "text": [
      "\n",
      "Escolha uma das opcao: \n",
      "1 - Incluir Novo Nome\n",
      "2 - Incluir Telefone\n",
      "3 - Excluir Telefone\n",
      "4 - Consultar Agenda\n",
      "0 - Encerrar Programa\n",
      "1\n",
      "Insira o nome da pessoa: Joao\n",
      "Insira um telefone da pessoa: 25263798\n",
      "Inserir outro telefone (ou digite 0 para parar): 0\n",
      "\n",
      "Escolha uma das opcao: \n",
      "1 - Incluir Novo Nome\n",
      "2 - Incluir Telefone\n",
      "3 - Excluir Telefone\n",
      "4 - Consultar Agenda\n",
      "0 - Encerrar Programa\n",
      "1\n",
      "Insira o nome da pessoa: Carla\n",
      "Insira um telefone da pessoa: 23651598\n",
      "Inserir outro telefone (ou digite 0 para parar): 0\n",
      "\n",
      "Escolha uma das opcao: \n",
      "1 - Incluir Novo Nome\n",
      "2 - Incluir Telefone\n",
      "3 - Excluir Telefone\n",
      "4 - Consultar Agenda\n",
      "0 - Encerrar Programa\n",
      "0\n"
     ]
    }
   ],
   "source": [
    "agenda = {}\n",
    "\n",
    "def incluirNovoNome(nome, telefones):\n",
    "    global agenda\n",
    "    agenda[nome] = telefones\n",
    "    \n",
    "def incluirTelefone(nome, telefone):\n",
    "    global agenda\n",
    "    if nome in agenda.keys():\n",
    "        agenda[nome].append(telefone)\n",
    "    else:\n",
    "        if input(\"Essa pessoa nao existe, incluir ela na agenda (s/n)? \") == \"s\":\n",
    "            telefones = [telefone]\n",
    "            incluirNovoNome(nome, telefones)\n",
    "            \n",
    "def excluirTelefone(nome, telefone):\n",
    "    global agenda\n",
    "    if nome in agenda.keys():\n",
    "        if len(agenda[nome]) == 1:\n",
    "            del agenda[nome]\n",
    "        else:\n",
    "            for num in range(0, len(agenda[nome]) - 1):\n",
    "                if telefone == agenda[nome][num]:\n",
    "                    agenda[nome].pop(num)\n",
    "        \n",
    "def consultarTelefone(nome):\n",
    "    global agenda\n",
    "    if nome in agenda.keys():\n",
    "        print(agenda[nome])\n",
    "\n",
    "    \n",
    "opcao = -1\n",
    "while opcao != 0:\n",
    "    opcao = int(input(\"\\nEscolha uma das opcao: \\n1 - Incluir Novo Nome\\n2 - Incluir Telefone\\n3 - Excluir Telefone\\n4 - Consultar Agenda\\n0 - Encerrar Programa\\n\"))\n",
    "    \n",
    "#Incluir Novo Nome\n",
    "    if opcao == 1:\n",
    "        nome = input(\"Insira o nome da pessoa: \")\n",
    "        telefones = []\n",
    "        telefones.append(int(input(\"Insira um telefone da pessoa: \")))\n",
    "        telefone = -1\n",
    "        while telefone != 0:\n",
    "            telefone = int(input(\"Inserir outro telefone (ou digite 0 para parar): \"))\n",
    "            if telefone != 0:\n",
    "                telefones.append(telefone)\n",
    "        incluirNovoNome(nome, telefones)\n",
    "\n",
    "# Incluir novo telefone\n",
    "    elif opcao == 2:\n",
    "        nome = input(\"Insira o nome da pessoa: \")\n",
    "        telefone = int(input(\"Insira um novo telefone da pessoa: \"))\n",
    "        incluirTelefone(nome, telefone)\n",
    "\n",
    "# EXCLUIR TELEFONE\n",
    "    elif opcao == 3:\n",
    "        nome = input(\"Insira o nome da pessoa: \")\n",
    "        telefone = int(input(\"Insira o telefone da pessoa a qual deseja excluir: \"))\n",
    "        excluirTelefone(nome, telefone)\n",
    "    elif opcao == 4:\n",
    "        consultarTelefone(input(\"Insira o nome da pessoa: \"))\n"
   ]
  },
  {
   "cell_type": "markdown",
   "metadata": {},
   "source": [
    "9 Faça um programa que leia um arquivo texto contendo uma lista de endereços IP e\n",
    "gere um outro arquivo, contendo um relatório dos endereços IP válidos e inválidos.\n",
    "O arquivo de entrada possui o seguinte formato:"
   ]
  },
  {
   "cell_type": "code",
   "execution_count": 6,
   "metadata": {},
   "outputs": [],
   "source": [
    "import socket\n",
    "\n",
    "ipsValidos = []\n",
    "ipsInvalidos = []\n",
    "\n",
    "ips = open(\"ips.txt\")\n",
    "for ip in ips:\n",
    "    try:\n",
    "        socket.inet_aton(ip)\n",
    "        # Validos\n",
    "        ipsValidos.append(ip)\n",
    "    except socket.error:\n",
    "        # Invalidos\n",
    "        ipsInvalidos.append(ip)\n",
    "        \n",
    "ips.close()\n",
    "\n",
    "saida = open(\"ipsvalidados.txt\", \"w+\")\n",
    "\n",
    "saida.write(\"[Enderecos validos:]\\n\")\n",
    "for ip in ipsValidos:\n",
    "    saida.write(ip)\n",
    "    \n",
    "saida.write(\"[Enderecos invalidos:]\\n\")\n",
    "for ip in ipsInvalidos:\n",
    "    saida.write(ip)\n",
    "    \n",
    "saida.close()"
   ]
  },
  {
   "cell_type": "markdown",
   "metadata": {},
   "source": [
    "10 A ACME Inc., uma empresa de 500 funcionários, está tendo problemas de espaço\n",
    "em disco no seu servidor de arquivos. Para tentar resolver este problema, o\n",
    "Administrador de Rede precisa saber qual o espaço ocupado pelos usuários, e\n",
    "identificar os usuários com maior espaço ocupado. Através de um programa, baixado\n",
    "da Internet, ele conseguiu gerar o seguinte arquivo, chamado \"usuarios.txt\":"
   ]
  },
  {
   "cell_type": "code",
   "execution_count": null,
   "metadata": {},
   "outputs": [],
   "source": []
  }
 ],
 "metadata": {
  "kernelspec": {
   "display_name": "Python 3",
   "language": "python",
   "name": "python3"
  },
  "language_info": {
   "codemirror_mode": {
    "name": "ipython",
    "version": 3
   },
   "file_extension": ".py",
   "mimetype": "text/x-python",
   "name": "python",
   "nbconvert_exporter": "python",
   "pygments_lexer": "ipython3",
   "version": "3.7.1"
  }
 },
 "nbformat": 4,
 "nbformat_minor": 2
}
