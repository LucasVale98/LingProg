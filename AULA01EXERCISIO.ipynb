{
 "cells": [
  {
   "cell_type": "markdown",
   "metadata": {},
   "source": [
    "AULA 01 - EXERCICIOS"
   ]
  },
  {
   "cell_type": "markdown",
   "metadata": {},
   "source": [
    "1 Faça um Programa que peça o raio de um círculo, calcule e mostre sua área."
   ]
  },
  {
   "cell_type": "code",
   "execution_count": 1,
   "metadata": {},
   "outputs": [
    {
     "name": "stdout",
     "output_type": "stream",
     "text": [
      "Digite o raio: 5\n",
      "A area do circulo de raio 5 é 7.9e+01\n"
     ]
    }
   ],
   "source": [
    "import math\n",
    "raio = int(input('Digite o raio: '))\n",
    "area = math.pi * (raio ** 2)\n",
    "print(f'A area do circulo de raio {raio} é {area:{5}.{2}}')"
   ]
  },
  {
   "cell_type": "markdown",
   "metadata": {},
   "source": [
    "2 Faça um Programa que calcule a área de um quadrado, em seguida mostre o dobro desta área para o usuário."
   ]
  },
  {
   "cell_type": "code",
   "execution_count": 9,
   "metadata": {},
   "outputs": [
    {
     "name": "stdout",
     "output_type": "stream",
     "text": [
      "Digite o valor de X: 5\n",
      "Digite o valor de Y: 2\n",
      "A area do quadro é: 10, o dobro da area é: 20\n"
     ]
    }
   ],
   "source": [
    "ladoX = float(input('Digite o valor de X: '))\n",
    "ladoY = float(input('Digite o valor de Y: '))\n",
    "area = ladoX * ladoY\n",
    "dobro = area*2 \n",
    "print(f'A area do quadro é: {area}, o dobro da area é: {dobro}')"
   ]
  },
  {
   "cell_type": "markdown",
   "metadata": {},
   "source": [
    "3 Faça um Programa que pergunte quanto você ganha por hora e o número de horas trabalhadas no mês. Calcule e mostre o total do seu salário no referido mês."
   ]
  },
  {
   "cell_type": "code",
   "execution_count": 10,
   "metadata": {},
   "outputs": [
    {
     "name": "stdout",
     "output_type": "stream",
     "text": [
      "Digite o valor da hora: 2\n",
      "Digite a quantidade de horas trabalhadas: 6\n",
      "Com valor de hora 2.00 e tendo trabalhado 6.00 horas, você ganhará 12.00\n",
      "\n"
     ]
    }
   ],
   "source": [
    "valor_hora = float (input (\"Digite o valor da hora: \"))\n",
    "numero_horas = float (input (\"Digite a quantidade de horas trabalhadas: \"))\n",
    "total = valor_hora * numero_horas\n",
    "print ('Com valor de hora %.2f e tendo trabalhado %.2f horas, você ganhará %.2f\\n' % (valor_hora, numero_horas, total))"
   ]
  },
  {
   "cell_type": "markdown",
   "metadata": {},
   "source": [
    "4 Faça um Programa que peça a temperatura em graus Farenheit, transforme e mostre a temperatura em graus Celsius. C = (5 * (F-32) / 9)."
   ]
  },
  {
   "cell_type": "code",
   "execution_count": 13,
   "metadata": {},
   "outputs": [
    {
     "name": "stdout",
     "output_type": "stream",
     "text": [
      "Digite a temperatura em Farenheit: 115\n",
      "Farenheit: 115.0, Celsius: 46.111111111111114\n"
     ]
    }
   ],
   "source": [
    "farenheit = float(input('Digite a temperatura em Farenheit: '))\n",
    "c = float((5 * (farenheit - 32) / 9))\n",
    "print(f'Farenheit: {farenheit}, Celsius: {c}'  )"
   ]
  },
  {
   "cell_type": "markdown",
   "metadata": {},
   "source": [
    "5 Faça um Programa que peça a temperatura em graus Celsius, transforme e mostre em graus Farenheit."
   ]
  },
  {
   "cell_type": "code",
   "execution_count": null,
   "metadata": {},
   "outputs": [],
   "source": [
    "celsius = int(input('Digite o grau celsius: '))\n",
    "farenheit = float(celsius * 1,8 + 32)\n",
    "print(farenheit)"
   ]
  },
  {
   "cell_type": "markdown",
   "metadata": {},
   "source": [
    "6 Faça um Programa que peça 2 números inteiros e um número real. Calcule e mostre:\n",
    "    \n",
    "- o produto do dobro do primeiro com metade do segundo .\n",
    "- a soma do triplo do primeiro com o terceiro.\n",
    "- o terceiro elevado ao cubo."
   ]
  },
  {
   "cell_type": "code",
   "execution_count": 5,
   "metadata": {},
   "outputs": [
    {
     "name": "stdout",
     "output_type": "stream",
     "text": [
      "Digite o 1ª valor inteiro: 5\n",
      "Digite o 2ª valor inteiro: 2\n",
      "Digite um valor real: 1.2\n",
      "Produto: 10.0\n",
      "Tripço: 16.2\n",
      "Cubo: 1.7279999999999998\n"
     ]
    }
   ],
   "source": [
    "a = int(input('Digite o 1ª valor inteiro: '))\n",
    "b = int(input('Digite o 2ª valor inteiro: '))\n",
    "c = float(input('Digite um valor real: '))\n",
    "\n",
    "\n",
    "produto = (a*2) * (b/2)\n",
    "triplo  = (a*3) + c\n",
    "cubo    = c**3\n",
    "\n",
    "print(f'Produto: {produto}')\n",
    "print(f'Tripço: {triplo}')\n",
    "print(f'Cubo: {cubo}')\n",
    "\n"
   ]
  },
  {
   "cell_type": "markdown",
   "metadata": {},
   "source": [
    "7 João Papo-de-Pescador, homem de bem, comprou um microcomputador para controlar o rendimento diário de seu trabalho. Toda vez que ele traz um peso de peixes maior que o estabelecido pelo regulamento de pesca do estado de São Paulo (50 quilos) deve pagar uma multa de R$ 4,00 por quilo excedente. João precisa quevocê faça um programa que leia a variável peso (peso de peixes) e verifique se há excesso. Se houver, gravar na variável excesso e na variável multa o valor da multaque João deverá pagar. Caso contrário mostrar tais variáveis com o conteúdo ZERO."
   ]
  },
  {
   "cell_type": "code",
   "execution_count": 6,
   "metadata": {},
   "outputs": [
    {
     "name": "stdout",
     "output_type": "stream",
     "text": [
      "Digite o peso de peixes: 70\n",
      "Excesso: 20.0, Multa: 80.0\n"
     ]
    }
   ],
   "source": [
    "peso_peixes = float (input (\"Digite o peso de peixes: \"))\n",
    "excesso = 0\n",
    "multa = 0\n",
    "if peso_peixes > 50:\n",
    "    excesso = peso_peixes - 50\n",
    "    multa = 4 * excesso\n",
    "print ('Excesso: {}, Multa: {}'.format(excesso, multa))"
   ]
  },
  {
   "cell_type": "code",
   "execution_count": null,
   "metadata": {},
   "outputs": [],
   "source": [
    "8 Faça um Programa que pergunte quanto você ganha por hora e o número de horas trabalhadas no mês. Calcule e mostre o total do \n",
    "seu salário no referido mês,sabendo-se que são descontados 11% para o Imposto de Renda, 8% para o INSS e 5% para o sindicato, \n",
    "faça um programa que nos dê:\n",
    "    \n",
    "- salário bruto.\n",
    "- quanto pagou ao INSS.\n",
    "- quanto pagou ao sindicato.\n",
    "- o salário líquido.\n",
    "- calcule os descontos e o salário líquido, conforme a tabela abaixo:\n",
    "    + Salário Bruto : R$\n",
    "    - IR (11%) : R$\n",
    "    - INSS (8%) : R$\n",
    "    - Sindicato ( 5%) : R$\n",
    "    = Salário Liquido : R$\n",
    "Obs.: Salário Bruto - Descontos = Salário Líquido."
   ]
  },
  {
   "cell_type": "code",
   "execution_count": 2,
   "metadata": {},
   "outputs": [
    {
     "name": "stdout",
     "output_type": "stream",
     "text": [
      "Qual é o valor de sua hora de trabalho:10\n",
      "Digitq quantas horas voce por mes50\n",
      "Salário Bruto : R$ 500\n",
      "IR (11%) : R$ (0, 5500)\n",
      "INSS (8%) : R$ (0, 4000)\n",
      "Sindicato ( 5%) : R$ (0, 2500)\n"
     ]
    }
   ],
   "source": [
    "valor_hora = int(input('Qual é o valor de sua hora de trabalho:'))\n",
    "horas_trabalhadas = int(input('Digite quantas horas voce por mes'))\n",
    "\n",
    "salario = valor_hora * horas_trabalhadas\n",
    "IR = 0,11* salario\n",
    "INSS = 0,8* salario\n",
    "sindicato = 0,5 * salario\n",
    "desconto = IR + INSS + sindicato\n",
    "\n",
    "print(f'Salário Bruto : R$ {salario}')\n",
    "print(f'IR (11%) : R$ {IR}')\n",
    "print(f'INSS (8%) : R$ {INSS}')\n",
    "print(f'Sindicato ( 5%) : R$ {sindicato}')\n"
   ]
  },
  {
   "cell_type": "markdown",
   "metadata": {},
   "source": [
    "9 Faça um programa que leia 2 strings e informe o conteúdo delas seguido do seu comprimento. Informe também se as duas strings possuem o mesmo comprimento e são iguais ou diferentes no conteúdo.\n",
    "\n",
    "Exemplo:\n",
    "String 1: Brasil Hexa 2018\n",
    "String 2: Brasil! Hexa 2018!\n",
    "Tamanho de \"Brasil Hexa 2018\": 16 caracteres\n",
    "Tamanho de \"Brasil! Hexa 2018!\": 18 caracteres\n",
    "As duas strings são de tamanhos diferentes.\n",
    "As duas strings possuem conteúdo diferente."
   ]
  },
  {
   "cell_type": "code",
   "execution_count": 7,
   "metadata": {},
   "outputs": [
    {
     "name": "stdout",
     "output_type": "stream",
     "text": [
      "Tamanho de \"Brasil Hexa 2018\": 16 caracteres\n",
      "Tamanho de \"Brasil Hexa 2018\"\": 18 caracteres\n",
      "As duas strings são de tamanhos diferentes.\n",
      "As duas strings possuem conteúdo diferentes.\n"
     ]
    }
   ],
   "source": [
    "A= 'Brasil Hexa 2018'\n",
    "B= 'Brasil! Hexa 2018!'\n",
    "\n",
    "\n",
    "print(f'Tamanho de \"{A}\": {len(A)} caracteres')\n",
    "print(f'Tamanho de \"{A}\"\": {len(B)} caracteres')\n",
    "\n",
    "if(len(A) == len(B)):\n",
    "    print('As duas strings são de tamanhos iguais.')\n",
    "else:\n",
    "    print('As duas strings são de tamanhos diferentes.')\n",
    "    \n",
    "if(A.lower() == B.lower()):\n",
    "    print('As duas strings possuem conteúdo iguais.')\n",
    "else:\n",
    "    print('As duas strings possuem conteúdo diferentes.')"
   ]
  },
  {
   "cell_type": "markdown",
   "metadata": {},
   "source": [
    "10 Faça um programa que permita ao usuário digitar o seu nome e em seguida mostre o nome do usuário de trás para frente utilizando somente letras maiúsculas. Dica: lembre−se que ao informar o nome o usuário pode digitar letras maiúsculas ou minúsculas. Observação: não use loops."
   ]
  },
  {
   "cell_type": "code",
   "execution_count": 16,
   "metadata": {},
   "outputs": [
    {
     "name": "stdout",
     "output_type": "stream",
     "text": [
      "Dgite seu nome: Lucas Do Vale Conceicao\n",
      "OACIECNOC ELAV OD SACUL\n"
     ]
    }
   ],
   "source": [
    "nome = input('Dgite seu nome: ')\n",
    "nameUper = nome.upper()\n",
    "\n",
    "print(nameUper[:: -1])"
   ]
  },
  {
   "cell_type": "markdown",
   "metadata": {},
   "source": [
    "11 Faça um programa que solicite a data de nascimento (dd/mm/aaaa) do usuário e\n",
    "imprima a data com o nome do mês por extenso.\n",
    "Data de Nascimento: 29/10/1973\n",
    "Você nasceu em 29 de Outubro de 1973.\n",
    "Obs.: Não use desvio condicional nem loops.\n"
   ]
  },
  {
   "cell_type": "code",
   "execution_count": 18,
   "metadata": {},
   "outputs": [
    {
     "name": "stdout",
     "output_type": "stream",
     "text": [
      "Data (dd/mm/aaaa): 28/02/1998\n",
      "Você nasce em: 28 de fevereiro de 1998\n"
     ]
    }
   ],
   "source": [
    "dia, mês, ano = input('Data (dd/mm/aaaa): ').split('/')\n",
    "\n",
    "meses = ['janeiro','fevereiro','março','abril', 'maio','junho','julho','agosto','setembro', 'outubro','novembro','dezembro']\n",
    "\n",
    "print ('Você nasce em: %s de %s de %s' %(dia, meses[int(mês) - 1], ano))"
   ]
  },
  {
   "cell_type": "markdown",
   "metadata": {},
   "source": [
    "12 Leet é uma forma de se escrever o alfabeto latino usando outros símbolos em lugar das letras, como números por exemplo. A própria palavra leet admite muitas variações, como l33t ou 1337. O uso do leet reflete uma subcultura relacionada ao mundo dos jogos de computador e internet, sendo muito usada para confundir os iniciantes e afirmar-se como parte de um grupo. Pesquise sobre as principais formas\n",
    "de traduzir as letras. Depois, faça um programa que peça uma texto e transforme-o\n",
    "para a grafia leet speak."
   ]
  },
  {
   "cell_type": "markdown",
   "metadata": {},
   "source": [
    "12 Leet é uma forma de se escrever o alfabeto latino usando outros símbolos em lugar das letras, como números por exemplo. A própria palavra leet admite muitas variações, como l33t ou 1337. O uso do leet reflete uma subcultura relacionada ao mundo dos jogos de computador e internet, sendo muito usada para confundir os iniciantes e afirmar-se como parte de um grupo. Pesquise sobre as principais formas de traduzir as letras. Depois, faça um programa que peça uma texto e transforme-o p ra a grafia leet speak."
   ]
  },
  {
   "cell_type": "code",
   "execution_count": null,
   "metadata": {},
   "outputs": [],
   "source": []
  },
  {
   "cell_type": "code",
   "execution_count": null,
   "metadata": {},
   "outputs": [],
   "source": []
  }
 ],
 "metadata": {
  "kernelspec": {
   "display_name": "Python 3",
   "language": "python",
   "name": "python3"
  },
  "language_info": {
   "codemirror_mode": {
    "name": "ipython",
    "version": 3
   },
   "file_extension": ".py",
   "mimetype": "text/x-python",
   "name": "python",
   "nbconvert_exporter": "python",
   "pygments_lexer": "ipython3",
   "version": "3.7.1"
  }
 },
 "nbformat": 4,
 "nbformat_minor": 2
}
