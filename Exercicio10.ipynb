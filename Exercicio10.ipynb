{
 "cells": [
  {
   "cell_type": "markdown",
   "metadata": {},
   "source": [
    "Exercicio10"
   ]
  },
  {
   "cell_type": "markdown",
   "metadata": {},
   "source": [
    "1 Implemente um gerador infinito de números primos."
   ]
  },
  {
   "cell_type": "code",
   "execution_count": 2,
   "metadata": {},
   "outputs": [],
   "source": [
    "def gerar_primos(limite):\n",
    "   \n",
    "    primos = []\n",
    "    for numero in range(2, limite + 1):\n",
    "        for auxiliar in range(2, numero):\n",
    "            if numero % auxiliar == 0:\n",
    "                break\n",
    "        else:\n",
    "            primos.append(n)\n",
    "    return primos"
   ]
  },
  {
   "cell_type": "markdown",
   "metadata": {},
   "source": [
    "2 Implementar um gerador que leia um arquivo e retorne uma lista de tuplas com os\n",
    "dados (o separador de campo do arquivo é virgula), eliminando as linhas vazias. Caso\n",
    "ocorra algum problema, imprima uma mensagem de aviso e encerre o programa.\n",
    "Use o exemplo abaixo como arquivo de entrada:"
   ]
  },
  {
   "cell_type": "code",
   "execution_count": null,
   "metadata": {},
   "outputs": [],
   "source": [
    "import sys\n",
    "\n",
    "arq = open(\"arquivo.txt\", \"w\")\n",
    "arq.write(\"Lendo Arquivo\")\n",
    "arq.write(\"Manipulando Arquivo\")\n",
    "\n",
    "arq.close()\n",
    "\n",
    "arq = open(arquivo.txt)\n",
    "\n",
    "for i in arq:\n",
    "    sys.stdout.write(i)\n",
    "arq.close"
   ]
  },
  {
   "cell_type": "markdown",
   "metadata": {},
   "source": [
    "3 Implementar dois geradores e rodá-los em paralelo (coroutine) para processar dois\n",
    "arquivos e gerar tuplas. O primeiro é similar ao do exercício 2. O segundo processa\n",
    "outro arquivo, também separado por vírgulas. No final, a lista gerada deve conter\n",
    "tuplas com 3 elementos. Use o exemplo baixo como base:"
   ]
  },
  {
   "cell_type": "code",
   "execution_count": null,
   "metadata": {},
   "outputs": [],
   "source": [
    "import sys\n",
    "\n",
    "arq = open(\"arquivo.txt\", \"w\")\n",
    "arq.write(\"Lendo Arquivo\")\n",
    "arq.write(\"Manipulando Arquivo\")\n",
    "\n",
    "arq.close()\n",
    "\n",
    "arq = open(arquivo.txt)\n",
    "\n",
    "for i in arq:\n",
    "    sys.stdout.write(i)\n",
    "arq.close"
   ]
  },
  {
   "cell_type": "markdown",
   "metadata": {},
   "source": [
    "4 Escreva um generator que crie um fluxo infinito de inteiros a partir de um valor\n",
    "inicial dado com passo 5.\n",
    "\n",
    "Ex: gera_inteiros(7) = 12, 17, 22, 27, ..."
   ]
  },
  {
   "cell_type": "code",
   "execution_count": null,
   "metadata": {},
   "outputs": [],
   "source": []
  }
 ],
 "metadata": {
  "kernelspec": {
   "display_name": "Python 3",
   "language": "python",
   "name": "python3"
  },
  "language_info": {
   "codemirror_mode": {
    "name": "ipython",
    "version": 3
   },
   "file_extension": ".py",
   "mimetype": "text/x-python",
   "name": "python",
   "nbconvert_exporter": "python",
   "pygments_lexer": "ipython3",
   "version": "3.7.1"
  }
 },
 "nbformat": 4,
 "nbformat_minor": 2
}
