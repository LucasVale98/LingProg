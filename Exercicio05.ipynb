{
 "cells": [
  {
   "cell_type": "markdown",
   "metadata": {},
   "source": [
    "Exercicio05"
   ]
  },
  {
   "cell_type": "markdown",
   "metadata": {},
   "source": [
    "1 Linha: Crie a classe Linha que tem dois atributos, coordenada1 e coordenada2. Cada coordenada é uma tupla que carrega duas coordenadas cartesianas (x,y) que denotam pontos do segmento de reta. Faça métodos que calculem o comprimento do segmento de reta e sua inclinação."
   ]
  },
  {
   "cell_type": "code",
   "execution_count": 20,
   "metadata": {},
   "outputs": [
    {
     "name": "stdout",
     "output_type": "stream",
     "text": [
      "Comprimento: 4\n",
      "Inclinacao: 1.5\n"
     ]
    }
   ],
   "source": [
    "class Linha:\n",
    "    def __init__ (self, coord1, coord2):\n",
    "        self.coord1 = coord1\n",
    "        self.coord2 = coord2\n",
    "    def calcula_comprimento (self):\n",
    "        return ((self.coord1[1] - self.coord1[0]) ** 2 + (self.coord2[1] - self.coord2[0]) ** 2) ** 2\n",
    "   \n",
    "    def calcula_inclinacao (self):\n",
    "        return (self.coord2[1] - self.coord1[1]) / (self.coord2[0] - self.coord1[0])\n",
    "  \n",
    "\n",
    "linha = Linha ((3, 2), (7, 8))\n",
    "\n",
    "print(f'Comprimento: {linha.calcula_comprimento()}')\n",
    "print(f'Inclinacao: {linha.calcula_inclinacao()}')\n",
    "\n"
   ]
  },
  {
   "cell_type": "markdown",
   "metadata": {},
   "source": [
    "2 -Figuras: Crie a seguinte hierarquia de classes de figuras geométricas.\n",
    "    a. A classe Figura deve ter o método area.\n",
    "    b. A classe Circulo é subclasse de Figura.\n",
    "    c. A classe Poligono é subclasse de Figura e deve ter os atributos base e altura .\n",
    "    d. As classes Triangulo, Losango, Retangulo e Quadrado são subclasses de\n",
    "    Poligono. Tente criar mais uma generalização aqui .\n",
    "    e. Os polígonos Retangulo e Quadrado devem ter um meio de calcular sua\n",
    "    diagonal. Use composição para isso.\n",
    "    f. Crie uma classe Geometria com uma lista de Figuras com pelo menos uma\n",
    "    figura de cada e imprima suas áreas"
   ]
  },
  {
   "cell_type": "code",
   "execution_count": 15,
   "metadata": {},
   "outputs": [
    {
     "name": "stdout",
     "output_type": "stream",
     "text": [
      "=================================================\n",
      "<class '__main__.Quadrado'>\n",
      "Area: 314.1592653589793 \n",
      "Perimetro: 62.83185307179586 \n",
      "=================================================\n",
      "<class '__main__.Quadrado'>\n",
      "Area: 25.0 \n",
      "Perimetro: None \n",
      "=================================================\n",
      "<class '__main__.Quadrado'>\n",
      "Area: 64.0 \n",
      "Perimetro: 48 \n",
      "=================================================\n",
      "<class '__main__.Quadrado'>\n",
      "Area: 40.0 \n",
      "Perimetro: 42 \n",
      "=================================================\n",
      "<class '__main__.Quadrado'>\n",
      "Area: 8.0 \n",
      "Perimetro: 16 \n"
     ]
    }
   ],
   "source": [
    "import math\n",
    "\n",
    "class Figura:\n",
    "    def area(self):\n",
    "        pass\n",
    "    \n",
    "    def perimetro(self):\n",
    "        pass\n",
    "    \n",
    "        \n",
    "#Classe de Circulo\n",
    "class Circulo(Figura):\n",
    "    def __init__(self, raio):\n",
    "        self.raio = raio\n",
    "        Figura.__init__(self)\n",
    "        \n",
    "    def area(self):\n",
    "        return math.pi * (self.raio**2)\n",
    "    \n",
    "    def perimetro(self):\n",
    "        return 2 * math.pi * self.raio\n",
    "\n",
    "#Classe de Poligono\n",
    "class Poligono(Figura):\n",
    "    def __init__(self, base, altura):\n",
    "        self.base = base\n",
    "        self.altura = altura\n",
    "        Figura.__init__(self)\n",
    "        \n",
    "class Triangulo(Poligono):\n",
    "    def __init__(self, base, altura):\n",
    "        self.base = base\n",
    "        self.altura = altura\n",
    "        \n",
    "    def area(self):\n",
    "        return (self.base * self.altura) / 2\n",
    "    \n",
    "    def perimetro(self):\n",
    "        pass\n",
    "\n",
    "class Losango(Poligono):\n",
    "    def __init__(self, base, altura):\n",
    "        self.base = base\n",
    "        self.altura = altura\n",
    "    \n",
    "    def area(self):\n",
    "        return (self.base * self.altura) / 2\n",
    "    \n",
    "    def perimetro(self):\n",
    "        return self.base*2 + self.altura*2\n",
    "    \n",
    "class Retangulo(Poligono):\n",
    "    def __init__(self, base, altura):\n",
    "        self.base = base\n",
    "        self.altura = altura\n",
    "    \n",
    "    def area(self):\n",
    "        return (self.base * self.altura) / 2\n",
    "    \n",
    "    def perimetro(self):\n",
    "        return self.base*2 + self.altura*2\n",
    "    \n",
    "    def diagonal(self):\n",
    "        return math.sqrt((self.base**2) + (self.altura**2))\n",
    "\n",
    "class Quadrado(Poligono):\n",
    "    def __init__(self, base, altura):\n",
    "        self.base = base\n",
    "        self.altura = altura\n",
    "    \n",
    "    def area(self):\n",
    "        return (self.base * self.altura) / 2\n",
    "    \n",
    "    def perimetro(self):\n",
    "        return self.base*2 + self.altura*2\n",
    "    \n",
    "class Geometria:\n",
    "    def vai (self):\n",
    "        lista = [Circulo(10), Triangulo(5,10), Losango(16,8), Retangulo(16,5), Quadrado(4,4)]\n",
    "        for f in lista:\n",
    "            print(\"=================================================\")\n",
    "            print(type(figura))\n",
    "            print (f'Area: {f.area()} ')\n",
    "            print (f'Perimetro: {f.perimetro()} ')\n",
    "            \n",
    "\n",
    "g = Geometria()\n",
    "g.vai()"
   ]
  },
  {
   "cell_type": "code",
   "execution_count": null,
   "metadata": {},
   "outputs": [],
   "source": []
  },
  {
   "cell_type": "markdown",
   "metadata": {},
   "source": [
    "3 - Jogo de Blacjack: Faça um joguinho simples em Python.\n",
    "Aqui estão os requisitos:\n",
    "    - Você precisa criar um jogo de BlackJack (21) baseado em texto simples\n",
    "    - O jogo precisa ter um jogador contra um croupier automatizado.\n",
    "    - O jogador pode desistir ou bater.\n",
    "    - O jogador deve ser capaz de escolher o seu valor de aposta.\n",
    "    - Você precisa acompanhar o dinheiro total do jogador.\n",
    "    - Você precisa alertar o jogador de vitórias, derrotas ou estouros, etc ..."
   ]
  },
  {
   "cell_type": "code",
   "execution_count": 1,
   "metadata": {},
   "outputs": [],
   "source": [
    "import random\n",
    "\n",
    "class Blacjack:\n",
    "    manilha = \"\"\n",
    "    valor = 0\n",
    "    index = 0\n",
    "    def __init__(self, manilha, valor, index):\n",
    "        self.manilha = manilha\n",
    "        self.valor = valor\n",
    "        self.index = index\n",
    "        \n",
    "    def __init__(self):\n",
    "        return f'Manilha, {self.manilha}: valor {self.valor}'\n",
    "    \n",
    "def card_deck():\n",
    "    card_value = ['A','2','3','4','5','6','7','8','9','10','J','Q','K']\n",
    "    card_type = ['Copas','Espadas','Paus','Ouros']\n",
    "    deck = []\n",
    "    k  = 0\n",
    "    for i in card_type:\n",
    "        for j in card_value:\n",
    "            k+=1\n",
    "            cartas = carta(i,j,k)\n",
    "            deck.append(cartas)\n",
    "    return deck\n"
   ]
  },
  {
   "cell_type": "code",
   "execution_count": null,
   "metadata": {},
   "outputs": [],
   "source": []
  }
 ],
 "metadata": {
  "kernelspec": {
   "display_name": "Python 3",
   "language": "python",
   "name": "python3"
  },
  "language_info": {
   "codemirror_mode": {
    "name": "ipython",
    "version": 3
   },
   "file_extension": ".py",
   "mimetype": "text/x-python",
   "name": "python",
   "nbconvert_exporter": "python",
   "pygments_lexer": "ipython3",
   "version": "3.7.1"
  }
 },
 "nbformat": 4,
 "nbformat_minor": 2
}
