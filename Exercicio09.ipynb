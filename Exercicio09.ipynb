{
 "cells": [
  {
   "cell_type": "markdown",
   "metadata": {},
   "source": [
    "Exercicio09"
   ]
  },
  {
   "cell_type": "markdown",
   "metadata": {},
   "source": [
    "1. A seguinte função calcula o valor de uma equação do segundo grau no ponto x,\n",
    "dados os coeficientes a, b e c.\n",
    "\n",
    "def equacao_segundo_grau (x, a, b, c):\n",
    "    return a * x * x + b * x + c\n",
    "\n",
    "1.1 Reescreva-a usando de modo que os valores a, b e c fiquem fixos e ela seja\n",
    "chamada passando somente o valor x, como ocorre na Listagem 1.1.1."
   ]
  },
  {
   "cell_type": "code",
   "execution_count": null,
   "metadata": {},
   "outputs": [],
   "source": [
    "def equacao_segundo_grau (x, a, b, c):\n",
    "    print(a * x * x + b * x + c)\n",
    "def equacao_segundo_grau5(5, a, b, c):\n",
    "    equacao_segundo_grau(5, a, b, c)\n",
    "def equacao_segundo_grau54(4, b, c):\n",
    "    equacao_segundo_grau5(4, b, c)\n",
    "def equacao_segundo_grau542(c):\n",
    "        equacao_segundo_grau54(2 c)\n",
    "\n",
    "equacao_segundo_grau542(5)\n"
   ]
  },
  {
   "cell_type": "markdown",
   "metadata": {},
   "source": [
    "1.2 Refaça o Exercício 1.1 usando o operador partial."
   ]
  },
  {
   "cell_type": "code",
   "execution_count": null,
   "metadata": {},
   "outputs": [],
   "source": [
    "def exibir (a, b, c):\n",
    "    print (a, b, c)\n",
    "def exibir5 (b, c):\n",
    "    exibir (5, b, c)\n",
    "def exibir54(c):\n",
    "    exibir5 (4, c)\n",
    "    \n",
    "exibir54(2)"
   ]
  },
  {
   "cell_type": "markdown",
   "metadata": {},
   "source": [
    "1.3 Escreva uma função recursiva para calcular a seguinte relação de recorrência:"
   ]
  },
  {
   "cell_type": "code",
   "execution_count": null,
   "metadata": {},
   "outputs": [],
   "source": [
    "def listsum(numList):\n",
    "    sum = 0\n",
    "    for i in numList:\n",
    "        sum = sum + i\n",
    "    return sum\n",
    "\n",
    "print(listsum([1,3,5,7,9]))"
   ]
  },
  {
   "cell_type": "markdown",
   "metadata": {},
   "source": [
    "1.4 Refaça o Exercício 1.3 usando Memoization"
   ]
  },
  {
   "cell_type": "code",
   "execution_count": null,
   "metadata": {},
   "outputs": [],
   "source": [
    "def exibir (a):\n",
    "    def aux1 (b):\n",
    "        def aux2 (c):\n",
    "            print (a, b, c)\n",
    "        return aux2\n",
    "    return aux1\n",
    "exibir (1)(2)(3)"
   ]
  },
  {
   "cell_type": "markdown",
   "metadata": {},
   "source": [
    "1.5 Refaça o Exercício 1.4 usando a técnica de Memoization implementada com um\n",
    "Decorator."
   ]
  },
  {
   "cell_type": "code",
   "execution_count": null,
   "metadata": {},
   "outputs": [],
   "source": [
    "from functools import partial\n",
    "\n",
    "def soma (a, b, c):\n",
    "    return a + b + c\n",
    "soma (10, 100, 100)\n",
    "soma_10 = partial (soma, 10)\n",
    "soma_10_100 = partial (soma_10, 100)\n",
    "print (soma_10_100(1000))"
   ]
  }
 ],
 "metadata": {
  "kernelspec": {
   "display_name": "Python 3",
   "language": "python",
   "name": "python3"
  },
  "language_info": {
   "codemirror_mode": {
    "name": "ipython",
    "version": 3
   },
   "file_extension": ".py",
   "mimetype": "text/x-python",
   "name": "python",
   "nbconvert_exporter": "python",
   "pygments_lexer": "ipython3",
   "version": "3.7.1"
  }
 },
 "nbformat": 4,
 "nbformat_minor": 2
}
